{
 "cells": [
  {
   "cell_type": "code",
   "execution_count": 4,
   "metadata": {},
   "outputs": [
    {
     "name": "stdout",
     "output_type": "stream",
     "text": [
      "20\n"
     ]
    }
   ],
   "source": [
    "import pandas as pd\n",
    "import numpy as np\n",
    "from PIL import Image\n",
    "import os\n",
    "import json\n",
    "\n",
    "image_path = \"/root/GUI-Memory/data/android_in_the_zoo/test_sample/general/GENERAL-4796150115256817663/GENERAL-4796150115256817663_0.png\"\n",
    "def show_image(image_path):\n",
    "    image = Image.open(image_path)\n",
    "    display(image)\n",
    "\n",
    "mode = \"flow\"\n",
    "memory = False\n",
    "\n",
    "tasks = next(os.walk(f\"/root/GUI-Memory/CoAT/android-in-the-zoo/intermediate/openai/{mode}\"))[1]\n",
    "print(len(tasks))"
   ]
  },
  {
   "cell_type": "code",
   "execution_count": 5,
   "metadata": {},
   "outputs": [],
   "source": [
    "import numpy as np\n",
    "from PIL import Image, ImageDraw\n",
    "import matplotlib.pyplot as plt\n",
    "import imagesize\n",
    "# from source.datasets.aitz.action_utils import match_ui_bbox, _resize_annotation_bounding_boxes\n",
    "\n",
    "\n",
    "def visualize_bboxes(image_path, annotation_abs_positions, point_yx_dict=None, point_radius=15, color=\"red\"):\n",
    "    # 打开图片\n",
    "    image = Image.open(image_path)\n",
    "    draw = ImageDraw.Draw(image)\n",
    "\n",
    "    # 遍历每个边界框并绘制红色方框\n",
    "    for bbox in annotation_abs_positions:\n",
    "        # print(bbox)\n",
    "        y_top_left, x_top_left, box_height, box_width = bbox\n",
    "        x_bottom_right = x_top_left + box_width\n",
    "        y_bottom_right = y_top_left + box_height\n",
    "        draw.rectangle([x_top_left, y_top_left, x_bottom_right, y_bottom_right], outline=color, width=2)\n",
    "\n",
    "    if point_yx_dict is not None:\n",
    "        # 绘制橙黄色圆点\n",
    "        point_y, point_x = point_yx_dict[\"touch_yx\"]\n",
    "        draw.ellipse(\n",
    "            (point_x - point_radius, point_y - point_radius, point_x + point_radius, point_y + point_radius),\n",
    "            fill=\"green\",\n",
    "            outline=\"yellow\"\n",
    "        )\n",
    "\n",
    "        point_y, point_x = point_yx_dict[\"lift_yx\"]\n",
    "        draw.ellipse(\n",
    "            (point_x - point_radius, point_y - point_radius, point_x + point_radius, point_y + point_radius),\n",
    "            fill=\"purple\",\n",
    "            outline=\"yellow\"\n",
    "        )\n",
    "\n",
    "    # 显示图片\n",
    "    plt.figure(dpi=200)\n",
    "    plt.imshow(image)\n",
    "    plt.axis('off')  # 关闭坐标轴\n",
    "    plt.show()\n",
    "\n",
    "# 显示原始UI标记，返回对应的ui元素位置列表\n",
    "def show_step_uis(step, idx=None):\n",
    "    # 示例用法\n",
    "    image_path = f\"/root/GUI-Memory/data/android_in_the_zoo/test_sample/{step['image_path']}\"\n",
    "    annotation_abs_positions = eval(step[\"ui_positions\"])\n",
    "    # print(annotation_abs_positions)\n",
    "    width, height = imagesize.get(image_path)\n",
    "    result_touch_yx = eval(step['result_touch_yx'])\n",
    "    y_touch = result_touch_yx[0] * height\n",
    "    x_touch = result_touch_yx[1] * width    \n",
    "    result_lift_yx = eval(step['result_lift_yx'])\n",
    "    y_lift = result_lift_yx[0] * height\n",
    "    x_lift = result_lift_yx[1] * width\n",
    "\n",
    "    yx_item = {\"touch_yx\": (y_touch, x_touch), \"lift_yx\": (y_lift, x_lift)}\n",
    "    visualize_bboxes(image_path, annotation_abs_positions, yx_item)\n",
    "\n",
    "    if idx is not None:\n",
    "        visualize_bboxes(image_path, [annotation_abs_positions[idx]], color=\"blue\")"
   ]
  },
  {
   "cell_type": "code",
   "execution_count": 6,
   "metadata": {},
   "outputs": [],
   "source": [
    "target_tasks = ['general-6458194457574888611_0', 'general-6458194457574888611_2', 'web_shopping-3415759859034183184_1', 'web_shopping-3415759859034183184_2', 'install-689623307793919007_0', 'install-689623307793919007_1', 'install-689623307793919007_2', 'install-689623307793919007_3', 'install-689623307793919007_4', 'install-689623307793919007_5', 'install-689623307793919007_6', 'install-689623307793919007_7', 'web_shopping-3572009480102797822_0', 'web_shopping-3572009480102797822_1', 'web_shopping-3572009480102797822_2', 'web_shopping-3572009480102797822_5', 'web_shopping-3572009480102797822_6', 'web_shopping-3572009480102797822_8', 'web_shopping-3572009480102797822_9', 'web_shopping-3572009480102797822_10', 'web_shopping-3572009480102797822_15', 'web_shopping-3572009480102797822_16', 'web_shopping-14640559031231493138_0', 'web_shopping-14640559031231493138_1', 'web_shopping-14640559031231493138_2', 'web_shopping-14640559031231493138_3', 'web_shopping-14640559031231493138_4', 'web_shopping-14640559031231493138_10', 'web_shopping-14640559031231493138_11', 'web_shopping-14640559031231493138_12', 'web_shopping-14640559031231493138_13']"
   ]
  },
  {
   "cell_type": "code",
   "execution_count": null,
   "metadata": {},
   "outputs": [
    {
     "name": "stdout",
     "output_type": "stream",
     "text": [
      "\n",
      "\n",
      "\n",
      "************\n",
      "\n",
      "\n",
      "\n",
      "/root/GUI-Memory/CoAT/android-in-the-zoo/intermediate/openai/flow/general-6458194457574888611\n",
      "\n",
      "\n",
      "\n",
      "************\n",
      "\n",
      "\n",
      "\n",
      "/root/GUI-Memory/CoAT/android-in-the-zoo/intermediate/openai/flow/web_shopping-3415759859034183184\n",
      "\n",
      "\n",
      "\n",
      "************\n",
      "\n",
      "\n",
      "\n",
      "/root/GUI-Memory/CoAT/android-in-the-zoo/intermediate/openai/flow/install-689623307793919007\n",
      "\n",
      "\n",
      "\n",
      "************\n",
      "\n",
      "\n",
      "\n",
      "/root/GUI-Memory/CoAT/android-in-the-zoo/intermediate/openai/flow/web_shopping-3572009480102797822\n",
      "\n",
      "\n",
      "\n",
      "************\n",
      "\n",
      "\n",
      "\n",
      "/root/GUI-Memory/CoAT/android-in-the-zoo/intermediate/openai/flow/web_shopping-14640559031231493138\n"
     ]
    }
   ],
   "source": [
    "for task in tasks[:5]:\n",
    "    print(\"\\n\\n\\n************\\n\\n\\n\")\n",
    "    \n",
    "    memory = False\n",
    "    if memory==False:\n",
    "        task_dir = f\"/root/GUI-Memory/CoAT/android-in-the-zoo/intermediate/openai/flow/{task}\"\n",
    "        print(task_dir)\n",
    "        task_files = next(os.walk(task_dir))[-1]\n",
    "        step_ids = list(set([\n",
    "            int(file.split(\".\")[0].split(\"_\")[1]) \n",
    "            if \"web\" not in file and \"google_apps\" not in file\n",
    "            else int(file.split(\".\")[0].split(\"_\")[2]) \n",
    "            for file in task_files]))\n",
    "        step_ids.sort()\n",
    "        region, id = task.split(\"-\")\n",
    "        test_file = f\"/root/GUI-Memory/data/android_in_the_zoo/test_sample/{region.lower()}/{region.upper()}-{id}/{region.upper()}-{id}.json\"\n",
    "        with open(test_file) as f:\n",
    "            test_data = json.load(f)\n",
    "\n",
    "        for i, id in enumerate(step_ids):\n",
    "            if f\"{task}_{id}\" not in target_tasks:\n",
    "                continue\n",
    "            # show observe\n",
    "            with open(f\"{task_dir}/{task}_{id}_0observe.json\", \"r\") as f:\n",
    "                observe = json.load(f)\n",
    "            \n",
    "            # show think_action\n",
    "            with open(f\"{task_dir}/{task}_{id}_1think_action.json\", \"r\") as f:\n",
    "                think_action = json.load(f)\n",
    "\n",
    "            # show reflect\n",
    "            # if os.path.exists(f\"{task_dir}/{task}_{i}_2reflect.jsonl\"):\n",
    "            #     with open(f\"{task_dir}/{task}_{i}_2reflect.jsonl\", \"r\") as f:\n",
    "            #         reflect = json.load(f)\n",
    "                # print(reflect)\n",
    "            # final action & ground truth\n",
    "            with open(f\"{task_dir}/{task}_{id}.json\", \"r\") as f:\n",
    "                final_action = json.load(f)\n",
    "            \n",
    "            ground_truth = {\n",
    "                # \"result_action_type\":test_data[i][\"result_action_type\"],\n",
    "                # \"result_action_text\":test_data[i][\"result_action_text\"],\n",
    "                # \"result_touch_yx\":test_data[i][\"result_touch_yx\"],\n",
    "                # \"result_lift_yx\":test_data[i][\"result_lift_yx\"],\n",
    "                \"coat_action_desc\":test_data[i][\"coat_action_desc\"],\n",
    "            }\n",
    "            # 绘制边框与idx并可视化ground truth\n",
    "            if final_action['action_predict']['COAT']['tag']['ACTION'] == 'click_element':\n",
    "                idx = final_action['action_predict']['COAT']['tag']['ARGS']['idx']\n",
    "                show_step_uis(test_data[i], idx)\n",
    "            else:\n",
    "                show_step_uis(test_data[i])\n",
    "            print(observe)\n",
    "            print(think_action)\n",
    "            print(final_action['action_desc'])\n",
    "            print(ground_truth)"
   ]
  },
  {
   "cell_type": "markdown",
   "metadata": {},
   "source": []
  },
  {
   "cell_type": "code",
   "execution_count": null,
   "metadata": {},
   "outputs": [
    {
     "data": {
      "text/plain": [
       "'web_shopping-14640559031231493138/13'"
      ]
     },
     "execution_count": 9,
     "metadata": {},
     "output_type": "execute_result"
    }
   ],
   "source": [
    "task_dir"
   ]
  },
  {
   "cell_type": "code",
   "execution_count": null,
   "metadata": {},
   "outputs": [],
   "source": []
  }
 ],
 "metadata": {
  "kernelspec": {
   "display_name": "guimem",
   "language": "python",
   "name": "python3"
  },
  "language_info": {
   "codemirror_mode": {
    "name": "ipython",
    "version": 3
   },
   "file_extension": ".py",
   "mimetype": "text/x-python",
   "name": "python",
   "nbconvert_exporter": "python",
   "pygments_lexer": "ipython3",
   "version": "3.9.21"
  }
 },
 "nbformat": 4,
 "nbformat_minor": 2
}
